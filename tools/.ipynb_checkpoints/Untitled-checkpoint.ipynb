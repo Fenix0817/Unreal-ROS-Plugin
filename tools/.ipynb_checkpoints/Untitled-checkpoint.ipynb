{
 "cells": [
  {
   "cell_type": "code",
   "execution_count": 37,
   "metadata": {
    "collapsed": true
   },
   "outputs": [],
   "source": [
    "str = \"\"\"\n",
    "Header header\n",
    "  int32 ts\n",
    "#latitude is in radian\n",
    "float64 latitude\n",
    "#longitude is in radian\n",
    "float64 longitude=2\n",
    "float32 altitude\n",
    "float32 height\n",
    "#reliablity [0,5]\n",
    "int8 health \n",
    "\"\"\""
   ]
  },
  {
   "cell_type": "code",
   "execution_count": 2,
   "metadata": {
    "collapsed": true
   },
   "outputs": [],
   "source": [
    "import re"
   ]
  },
  {
   "cell_type": "code",
   "execution_count": 72,
   "metadata": {
    "collapsed": false
   },
   "outputs": [
    {
     "name": "stdout",
     "output_type": "stream",
     "text": [
      "\n",
      "USTRUCT()\n",
      "struct Fname\n",
      "{\n",
      "    GENERATED_USTRUCT_BODY()\n",
      "    \n",
      "    UPROPERTY()\n",
      "    Header * header;\n",
      "\n",
      "    UPROPERTY()\n",
      "    int32 ts;\n",
      "\n",
      "    UPROPERTY()\n",
      "    float64 latitude;\n",
      "\n",
      "    UPROPERTY()\n",
      "    float64 longitude;\n",
      "\n",
      "    UPROPERTY()\n",
      "    float32 altitude;\n",
      "\n",
      "    UPROPERTY()\n",
      "    float32 height;\n",
      "\n",
      "    UPROPERTY()\n",
      "    int8 health;\n",
      "\n",
      "};\n",
      "\n"
     ]
    }
   ],
   "source": [
    "Primitivelist = {\n",
    "        \"bool\":\"uint8_t\",\n",
    "        \"int8\":\"int8_t\",\n",
    "        \"uint8\":\"uint8_t\",\n",
    "        \"int16\":\"int16_t\",\n",
    "        \"uint16\":\"uint16_t\",\n",
    "        \"int32\":\"int32_t\",\n",
    "        \"uint32\":\"uint32_t\",\n",
    "        \"int64\":\"int64_t\",\n",
    "        \"uint64\":\"uint64_t\",\n",
    "        \"float32\":\"float\",\n",
    "        \"float64\":\"double\",\n",
    "        \"string\" : \"std::string\",\n",
    "        \"time\":\"int32_t\",\n",
    "        \"duration\":\"int32_t\"\n",
    "    }\n",
    "def MakeProperty(k,v):\n",
    "    if k in Primitivelist:\n",
    "        return \"UPROPERTY()\\n    {0} {1};\\n\".format(k,v)\n",
    "    else:\n",
    "        return \"UPROPERTY()\\n    {0} * {1};\\n\".format(k,v)\n",
    "\n",
    "def AnalyseMsgFile(str):\n",
    "    \n",
    "    pattern = re.compile(r\"^\\s([#\\w]+) (\\w+)\\s\",re.M)\n",
    "    defs = re.findall(\"^\\s*(\\w+)\\s+(\\w+)\",str,re.M)\n",
    "    varsdef = [ MakeProperty(k,v) for k,v in defs]\n",
    "    structdef = \"\"\"\n",
    "USTRUCT()\n",
    "struct F%s\n",
    "{\n",
    "    GENERATED_USTRUCT_BODY()\n",
    "    \n",
    "    %s\n",
    "};\n",
    "\"\"\"%(\"name\",\"\\n    \".join(varsdef))\n",
    "    return structdef\n",
    "print AnalyseMsgFile(str)"
   ]
  },
  {
   "cell_type": "code",
   "execution_count": 70,
   "metadata": {
    "collapsed": false
   },
   "outputs": [
    {
     "name": "stdout",
     "output_type": "stream",
     "text": [
      "b\n"
     ]
    }
   ],
   "source": [
    "a= dict()\n",
    "if \"3\" in a:\n",
    "    print \"a\"\n",
    "else:\n",
    "    print \"b\"    "
   ]
  },
  {
   "cell_type": "code",
   "execution_count": 52,
   "metadata": {
    "collapsed": false
   },
   "outputs": [
    {
     "name": "stdout",
     "output_type": "stream",
     "text": [
      "\n",
      "USTRUCT()\n",
      "struct Fname\n",
      "{\n",
      "    GENERATED_USTRUCT_BODY()\n",
      "    UPROPERTY()\n",
      "Header header\n",
      "UPROPERTY()\n",
      "int32 ts\n",
      "UPROPERTY()\n",
      "float64 latitude\n",
      "UPROPERTY()\n",
      "float64 longitude\n",
      "UPROPERTY()\n",
      "float32 altitude\n",
      "UPROPERTY()\n",
      "float32 height\n",
      "UPROPERTY()\n",
      "int8 health\n",
      "}\n",
      "\n"
     ]
    }
   ],
   "source": []
  },
  {
   "cell_type": "code",
   "execution_count": 63,
   "metadata": {
    "collapsed": false
   },
   "outputs": [
    {
     "ename": "ImportError",
     "evalue": "dlopen(/usr/local/lib/python2.7/site-packages/cv2.so, 2): Library not loaded: /usr/local/Frameworks/Python.framework/Versions/2.7/Python\n  Referenced from: /usr/local/lib/python2.7/site-packages/cv2.so\n  Reason: image not found",
     "output_type": "error",
     "traceback": [
      "\u001b[0;31m---------------------------------------------------------------------------\u001b[0m",
      "\u001b[0;31mImportError\u001b[0m                               Traceback (most recent call last)",
      "\u001b[0;32m<ipython-input-63-72fbbcfe2587>\u001b[0m in \u001b[0;36m<module>\u001b[0;34m()\u001b[0m\n\u001b[0;32m----> 1\u001b[0;31m \u001b[0;32mimport\u001b[0m \u001b[0mcv2\u001b[0m\u001b[0;34m\u001b[0m\u001b[0m\n\u001b[0m",
      "\u001b[0;31mImportError\u001b[0m: dlopen(/usr/local/lib/python2.7/site-packages/cv2.so, 2): Library not loaded: /usr/local/Frameworks/Python.framework/Versions/2.7/Python\n  Referenced from: /usr/local/lib/python2.7/site-packages/cv2.so\n  Reason: image not found"
     ]
    }
   ],
   "source": [
    "import cv2"
   ]
  },
  {
   "cell_type": "code",
   "execution_count": null,
   "metadata": {
    "collapsed": true
   },
   "outputs": [],
   "source": []
  }
 ],
 "metadata": {
  "kernelspec": {
   "display_name": "Python 2",
   "language": "python",
   "name": "python2"
  },
  "language_info": {
   "codemirror_mode": {
    "name": "ipython",
    "version": 2
   },
   "file_extension": ".py",
   "mimetype": "text/x-python",
   "name": "python",
   "nbconvert_exporter": "python",
   "pygments_lexer": "ipython2",
   "version": "2.7.10"
  }
 },
 "nbformat": 4,
 "nbformat_minor": 0
}

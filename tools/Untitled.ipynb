{
 "cells": [
  {
   "cell_type": "code",
   "execution_count": 37,
   "metadata": {
    "collapsed": true
   },
   "outputs": [],
   "source": [
    "str = \"\"\"\n",
    "Header header\n",
    "  int32 ts\n",
    "#latitude is in radian\n",
    "float64 latitude\n",
    "#longitude is in radian\n",
    "float64 longitude=2\n",
    "float32 altitude\n",
    "float32 height\n",
    "#reliablity [0,5]\n",
    "int8 health \n",
    "\"\"\""
   ]
  },
  {
   "cell_type": "code",
   "execution_count": 2,
   "metadata": {
    "collapsed": true
   },
   "outputs": [],
   "source": [
    "import re"
   ]
  },
  {
   "cell_type": "code",
   "execution_count": 96,
   "metadata": {
    "collapsed": false
   },
   "outputs": [
    {
     "name": "stdout",
     "output_type": "stream",
     "text": [
      "[('Facc', 'USTRUCT(Category=\"Robot OS\")\\nstruct Facc\\n{\\n    GENERATED_USTRUCT_BODY()\\n    \\nUPROPERTY(EditAnywhere, BlueprintReadWrite,Category=\"Robot OS\")\\n    int32 ts;\\n\\n    UPROPERTY(EditAnywhere, BlueprintReadWrite,Category=\"Robot OS\")\\n    float32 ax;\\n\\n    UPROPERTY(EditAnywhere, BlueprintReadWrite,Category=\"Robot OS\")\\n    float32 ay;\\n\\n    UPROPERTY(EditAnywhere, BlueprintReadWrite,Category=\"Robot OS\")\\n    float32 az;\\n\\n};'), ('Fattitude_quad', 'USTRUCT(Category=\"Robot OS\")\\nstruct Fattitude_quad\\n{\\n    GENERATED_USTRUCT_BODY()\\n    \\nUPROPERTY(EditAnywhere, BlueprintReadWrite,Category=\"Robot OS\")\\n    int32 ts;\\n\\n    UPROPERTY(EditAnywhere, BlueprintReadWrite,Category=\"Robot OS\")\\n    float32 q0;\\n\\n    UPROPERTY(EditAnywhere, BlueprintReadWrite,Category=\"Robot OS\")\\n    float32 q1;\\n\\n    UPROPERTY(EditAnywhere, BlueprintReadWrite,Category=\"Robot OS\")\\n    float32 q2;\\n\\n    UPROPERTY(EditAnywhere, BlueprintReadWrite,Category=\"Robot OS\")\\n    float32 q3;\\n\\n    UPROPERTY(EditAnywhere, BlueprintReadWrite,Category=\"Robot OS\")\\n    float32 wx;\\n\\n    UPROPERTY(EditAnywhere, BlueprintReadWrite,Category=\"Robot OS\")\\n    float32 wy;\\n\\n    UPROPERTY(EditAnywhere, BlueprintReadWrite,Category=\"Robot OS\")\\n    float32 wz;\\n\\n};'), ('Fgimbal', 'USTRUCT(Category=\"Robot OS\")\\nstruct Fgimbal\\n{\\n    GENERATED_USTRUCT_BODY()\\n    \\nUPROPERTY(EditAnywhere, BlueprintReadWrite,Category=\"Robot OS\")\\n    float32 pitch;\\n\\n    UPROPERTY(EditAnywhere, BlueprintReadWrite,Category=\"Robot OS\")\\n    float32 yaw;\\n\\n    UPROPERTY(EditAnywhere, BlueprintReadWrite,Category=\"Robot OS\")\\n    float32 roll;\\n\\n};'), ('Fglobal_position', 'USTRUCT(Category=\"Robot OS\")\\nstruct Fglobal_position\\n{\\n    GENERATED_USTRUCT_BODY()\\n    \\nUPROPERTY(EditAnywhere, BlueprintReadWrite,Category=\"Robot OS\")\\n    int32 ts;\\n\\n    UPROPERTY(EditAnywhere, BlueprintReadWrite,Category=\"Robot OS\")\\n    float64 lat;\\n\\n    UPROPERTY(EditAnywhere, BlueprintReadWrite,Category=\"Robot OS\")\\n    float64 lon;\\n\\n    UPROPERTY(EditAnywhere, BlueprintReadWrite,Category=\"Robot OS\")\\n    float32 alti;\\n\\n    UPROPERTY(EditAnywhere, BlueprintReadWrite,Category=\"Robot OS\")\\n    float32 height;\\n\\n    UPROPERTY(EditAnywhere, BlueprintReadWrite,Category=\"Robot OS\")\\n    float32 uncertain;\\n\\n};'), ('Flocal_position', 'USTRUCT(Category=\"Robot OS\")\\nstruct Flocal_position\\n{\\n    GENERATED_USTRUCT_BODY()\\n    \\nUPROPERTY(EditAnywhere, BlueprintReadWrite,Category=\"Robot OS\")\\n    int32 ts;\\n\\n    UPROPERTY(EditAnywhere, BlueprintReadWrite,Category=\"Robot OS\")\\n    float32 x;\\n\\n    UPROPERTY(EditAnywhere, BlueprintReadWrite,Category=\"Robot OS\")\\n    float32 y;\\n\\n    UPROPERTY(EditAnywhere, BlueprintReadWrite,Category=\"Robot OS\")\\n    float32 height;\\n\\n};'), ('Frc_channels', 'USTRUCT(Category=\"Robot OS\")\\nstruct Frc_channels\\n{\\n    GENERATED_USTRUCT_BODY()\\n    \\nUPROPERTY(EditAnywhere, BlueprintReadWrite,Category=\"Robot OS\")\\n    float32 roll;\\n\\n    UPROPERTY(EditAnywhere, BlueprintReadWrite,Category=\"Robot OS\")\\n    float32 pitch;\\n\\n    UPROPERTY(EditAnywhere, BlueprintReadWrite,Category=\"Robot OS\")\\n    float32 yaw;\\n\\n    UPROPERTY(EditAnywhere, BlueprintReadWrite,Category=\"Robot OS\")\\n    float32 throttle;\\n\\n    UPROPERTY(EditAnywhere, BlueprintReadWrite,Category=\"Robot OS\")\\n    float32 mode;\\n\\n    UPROPERTY(EditAnywhere, BlueprintReadWrite,Category=\"Robot OS\")\\n    float32 gear_up;\\n\\n};'), ('Fvelocity', 'USTRUCT(Category=\"Robot OS\")\\nstruct Fvelocity\\n{\\n    GENERATED_USTRUCT_BODY()\\n    \\nUPROPERTY(EditAnywhere, BlueprintReadWrite,Category=\"Robot OS\")\\n    int32 ts;\\n\\n    UPROPERTY(EditAnywhere, BlueprintReadWrite,Category=\"Robot OS\")\\n    float32 velx;\\n\\n    UPROPERTY(EditAnywhere, BlueprintReadWrite,Category=\"Robot OS\")\\n    float32 vely;\\n\\n    UPROPERTY(EditAnywhere, BlueprintReadWrite,Category=\"Robot OS\")\\n    float32 velz;\\n\\n};')]\n"
     ]
    }
   ],
   "source": [
    "Primitivelist = {\n",
    "        \"bool\":\"uint8_t\",\n",
    "        \"int8\":\"int8_t\",\n",
    "        \"uint8\":\"uint8_t\",\n",
    "        \"int16\":\"int16_t\",\n",
    "        \"uint16\":\"uint16_t\",\n",
    "        \"int32\":\"int32_t\",\n",
    "        \"uint32\":\"uint32_t\",\n",
    "        \"int64\":\"int64_t\",\n",
    "        \"uint64\":\"uint64_t\",\n",
    "        \"float32\":\"float\",\n",
    "        \"float64\":\"double\",\n",
    "        \"string\" : \"std::string\",\n",
    "        \"time\":\"int32_t\",\n",
    "        \"duration\":\"int32_t\"\n",
    "    }\n",
    "def MakeProperty(k,v):\n",
    "    if k in Primitivelist:\n",
    "        return \"UPROPERTY(EditAnywhere, BlueprintReadWrite,Category=\\\"Robot OS\\\")\\n    {0} {1};\\n\".format(k,v)\n",
    "    else:\n",
    "        return \"UPROPERTY(EditAnywhere, BlueprintReadWrite,Category=\\\"Robot OS\\\")\\n    {0} * {1} = nullptr;\\n\".format(k,v)\n",
    "\n",
    "def AnalyseMsgStr(fstr,name):\n",
    "    #print fstr\n",
    "    pattern = re.compile(r\"^\\s([#\\w]+) (\\w+)\\s\",re.M)\n",
    "    defs = re.findall(\"^\\s*(\\w+)\\s+(\\w+)\",fstr,re.M)\n",
    "    varsdef = [ MakeProperty(k,v) for k,v in defs]\n",
    "    structdef = \"\"\"USTRUCT(Category=\"Robot OS\")\n",
    "struct F%s\n",
    "{\n",
    "    GENERATED_USTRUCT_BODY()\n",
    "    \n",
    "%s\n",
    "};\"\"\"%(name,\"\\n    \".join(varsdef))\n",
    "    return structdef\n",
    "\n",
    "def AnalyseMsgFile(file_name):\n",
    "    fstr = open(file_name).read()\n",
    "    path_list = re.compile(\"[/\\\\\\.]\").split(file_name);\n",
    "    \n",
    "    name = path_list[len(path_list)-2]\n",
    "    return \"F\"+name,AnalyseMsgStr(fstr,name)\n",
    "    \n",
    "def AnalyseMsgDirectory(path):\n",
    "    import glob\n",
    "    title_text = \"\"\n",
    "    struct_text = \"\"\n",
    "    for n,nstr in map(AnalyseMsgFile,glob.glob(path+\"/*.msg\"))\n",
    "    \n",
    "AnalyseMsgDirectory(\"/Users/xuhao/aircraft/DJI/dji_ws/src/dji_sdk/msg/\")"
   ]
  },
  {
   "cell_type": "code",
   "execution_count": 70,
   "metadata": {
    "collapsed": false
   },
   "outputs": [
    {
     "name": "stdout",
     "output_type": "stream",
     "text": [
      "b\n"
     ]
    }
   ],
   "source": [
    "a= dict()\n",
    "if \"3\" in a:\n",
    "    print \"a\"\n",
    "else:\n",
    "    print \"b\"    "
   ]
  },
  {
   "cell_type": "code",
   "execution_count": 52,
   "metadata": {
    "collapsed": false
   },
   "outputs": [
    {
     "name": "stdout",
     "output_type": "stream",
     "text": [
      "\n",
      "USTRUCT()\n",
      "struct Fname\n",
      "{\n",
      "    GENERATED_USTRUCT_BODY()\n",
      "    UPROPERTY()\n",
      "Header header\n",
      "UPROPERTY()\n",
      "int32 ts\n",
      "UPROPERTY()\n",
      "float64 latitude\n",
      "UPROPERTY()\n",
      "float64 longitude\n",
      "UPROPERTY()\n",
      "float32 altitude\n",
      "UPROPERTY()\n",
      "float32 height\n",
      "UPROPERTY()\n",
      "int8 health\n",
      "}\n",
      "\n"
     ]
    }
   ],
   "source": []
  },
  {
   "cell_type": "code",
   "execution_count": 63,
   "metadata": {
    "collapsed": false
   },
   "outputs": [
    {
     "ename": "ImportError",
     "evalue": "dlopen(/usr/local/lib/python2.7/site-packages/cv2.so, 2): Library not loaded: /usr/local/Frameworks/Python.framework/Versions/2.7/Python\n  Referenced from: /usr/local/lib/python2.7/site-packages/cv2.so\n  Reason: image not found",
     "output_type": "error",
     "traceback": [
      "\u001b[0;31m---------------------------------------------------------------------------\u001b[0m",
      "\u001b[0;31mImportError\u001b[0m                               Traceback (most recent call last)",
      "\u001b[0;32m<ipython-input-63-72fbbcfe2587>\u001b[0m in \u001b[0;36m<module>\u001b[0;34m()\u001b[0m\n\u001b[0;32m----> 1\u001b[0;31m \u001b[0;32mimport\u001b[0m \u001b[0mcv2\u001b[0m\u001b[0;34m\u001b[0m\u001b[0m\n\u001b[0m",
      "\u001b[0;31mImportError\u001b[0m: dlopen(/usr/local/lib/python2.7/site-packages/cv2.so, 2): Library not loaded: /usr/local/Frameworks/Python.framework/Versions/2.7/Python\n  Referenced from: /usr/local/lib/python2.7/site-packages/cv2.so\n  Reason: image not found"
     ]
    }
   ],
   "source": [
    "import cv2"
   ]
  },
  {
   "cell_type": "code",
   "execution_count": null,
   "metadata": {
    "collapsed": true
   },
   "outputs": [],
   "source": []
  }
 ],
 "metadata": {
  "kernelspec": {
   "display_name": "Python 2",
   "language": "python",
   "name": "python2"
  },
  "language_info": {
   "codemirror_mode": {
    "name": "ipython",
    "version": 2
   },
   "file_extension": ".py",
   "mimetype": "text/x-python",
   "name": "python",
   "nbconvert_exporter": "python",
   "pygments_lexer": "ipython2",
   "version": "2.7.10"
  }
 },
 "nbformat": 4,
 "nbformat_minor": 0
}
